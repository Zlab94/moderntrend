{
  "metadata": {
    "language_info": {
      "codemirror_mode": {
        "name": "python",
        "version": 3
      },
      "file_extension": ".py",
      "mimetype": "text/x-python",
      "name": "python",
      "nbconvert_exporter": "python",
      "pygments_lexer": "ipython3",
      "version": "3.8"
    },
    "kernelspec": {
      "name": "python",
      "display_name": "Pyolite",
      "language": "python"
    }
  },
  "nbformat_minor": 4,
  "nbformat": 4,
  "cells": [
    {
      "cell_type": "markdown",
      "source": "# \"My Jupyter Notebook on IBM Watson Studio\"",
      "metadata": {}
    },
    {
      "cell_type": "markdown",
      "source": "**Zainab Labaran**",
      "metadata": {}
    },
    {
      "cell_type": "markdown",
      "source": "Aspiring Data Analyst",
      "metadata": {}
    },
    {
      "cell_type": "markdown",
      "source": "*I am interested in data science because I enjoy problem-solving and statistical analysis*",
      "metadata": {}
    },
    {
      "cell_type": "markdown",
      "source": "### divide 14 by 7",
      "metadata": {}
    },
    {
      "cell_type": "code",
      "source": "14/7",
      "metadata": {
        "trusted": true
      },
      "execution_count": 4,
      "outputs": [
        {
          "execution_count": 4,
          "output_type": "execute_result",
          "data": {
            "text/plain": "2.0"
          },
          "metadata": {}
        }
      ]
    },
    {
      "cell_type": "markdown",
      "source": "~~mistake~~",
      "metadata": {}
    },
    {
      "cell_type": "markdown",
      "source": "(https://www.amazon.com)",
      "metadata": {}
    },
    {
      "cell_type": "markdown",
      "source": "My name is Zainab\n___",
      "metadata": {}
    },
    {
      "cell_type": "code",
      "source": "",
      "metadata": {},
      "execution_count": null,
      "outputs": []
    }
  ]
}